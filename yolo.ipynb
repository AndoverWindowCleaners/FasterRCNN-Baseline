{
 "cells": [
  {
   "cell_type": "code",
   "execution_count": 6,
   "source": [
    "import tensorflow as tf\r\n",
    "import os\r\n",
    "import numpy as np\r\n",
    "import cv2"
   ],
   "outputs": [],
   "metadata": {}
  },
  {
   "cell_type": "code",
   "execution_count": 23,
   "source": [
    "labels_folder = \"data/labels/\"\r\n",
    "images_folder = \"data/images/\"\r\n",
    "\r\n",
    "images, labels = [], []\r\n",
    "\r\n",
    "image_width = 128\r\n",
    "image_height = 96\r\n",
    "\r\n",
    "for folder in os.listdir(labels_folder):\r\n",
    "    if folder != '.DS_Store':\r\n",
    "        for filename in os.listdir(f\"{labels_folder}{folder}\"):\r\n",
    "            if filename.endswith(\"YOLO\"):\r\n",
    "                for _file in os.listdir(f\"{labels_folder}{folder}/{filename}\"):\r\n",
    "                    with open(f\"{labels_folder}{folder}/{filename}/{_file}\") as f:\r\n",
    "                        lines = []\r\n",
    "                        for line in f:\r\n",
    "                            line = line.split()\r\n",
    "                            label, rest = int(line[0]), line[1:]\r\n",
    "                            xmin, ymin, w, h = map(float, rest)\r\n",
    "                            xmin, ymin = int(xmin*image_width), int(ymin*image_height)\r\n",
    "                            w, h = int(w*image_width), int(h*image_height)\r\n",
    "                            lines.append([label, xmin, ymin, w+xmin, h+ymin])\r\n",
    "                        lines = np.array(lines)\r\n",
    "                        labels.append(lines)\r\n",
    "                    images.append(cv2.imread(f\"{images_folder}/{folder}/{_file[:-3]}jpg\", cv2.IMREAD_GRAYSCALE))\r\n",
    "\r\n",
    "images = np.array(images)\r\n",
    "labels = np.array(labels, dtype=object)\r\n",
    "\r\n",
    "print(images.shape, images[0].shape)\r\n",
    "print(len(labels), max(len(label) for label in labels))"
   ],
   "outputs": [
    {
     "output_type": "stream",
     "name": "stdout",
     "text": [
      "(1029, 96, 128) (96, 128)\n",
      "1029 6\n"
     ]
    }
   ],
   "metadata": {}
  },
  {
   "cell_type": "code",
   "execution_count": null,
   "source": [],
   "outputs": [],
   "metadata": {}
  }
 ],
 "metadata": {
  "orig_nbformat": 4,
  "language_info": {
   "name": "python",
   "version": "3.9.5",
   "mimetype": "text/x-python",
   "codemirror_mode": {
    "name": "ipython",
    "version": 3
   },
   "pygments_lexer": "ipython3",
   "nbconvert_exporter": "python",
   "file_extension": ".py"
  },
  "kernelspec": {
   "name": "python3",
   "display_name": "Python 3.9.5 64-bit ('base': conda)"
  },
  "interpreter": {
   "hash": "d5cbf4b53afc3e0a9c5f3fff080c82bd5f2330462b61b60235996ffa738e5091"
  }
 },
 "nbformat": 4,
 "nbformat_minor": 2
}