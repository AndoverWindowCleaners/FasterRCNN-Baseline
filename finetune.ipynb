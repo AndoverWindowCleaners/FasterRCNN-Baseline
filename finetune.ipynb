{
 "cells": [
  {
   "cell_type": "code",
   "execution_count": 1,
   "source": [
    "import numpy as np\n",
    "import cv2\n",
    "import torch \n",
    "import torchvision \n",
    "from engine import train_one_epoch, evaluate\n",
    "from data_reading import WindowDataset\n",
    "import utils\n",
    "from torch.utils.data import DataLoader"
   ],
   "outputs": [],
   "metadata": {}
  },
  {
   "cell_type": "code",
   "execution_count": 2,
   "source": [
    "def get_model():\n",
    "    # Initialize Model, from pytorch tutorial: https://pytorch.org/tutorials/intermediate/torchvision_tutorial.html\n",
    "    model = torchvision.models.detection.fasterrcnn_resnet50_fpn(pretrained = True)\n",
    "    num_classes = 2 # window + background\n",
    "    in_features = model.roi_heads.box_predictor.cls_score.in_features # Number of input features for the classifier\n",
    "    model.roi_heads.box_predictor = torchvision.models.detection.faster_rcnn.FastRCNNPredictor(in_features, num_classes)\n",
    "    return model.double()"
   ],
   "outputs": [],
   "metadata": {}
  },
  {
   "cell_type": "code",
   "execution_count": 3,
   "source": [
    "device = torch.device('cuda') if torch.cuda.is_available() else torch.device('cpu')\n",
    "print(f'running on device {device}')\n",
    "model = get_model()"
   ],
   "outputs": [
    {
     "output_type": "stream",
     "name": "stdout",
     "text": [
      "running on device cpu\n"
     ]
    }
   ],
   "metadata": {}
  },
  {
   "cell_type": "code",
   "execution_count": 4,
   "source": [
    "params = [p for p in model.parameters() if p.requires_grad]\n",
    "\n",
    "optimizer = torch.optim.Adam(params, lr = 0.00001)\n",
    "lr_scheduler = torch.optim.lr_scheduler.StepLR(optimizer, step_size = 3, gamma = 0.1)"
   ],
   "outputs": [],
   "metadata": {}
  },
  {
   "cell_type": "code",
   "execution_count": 5,
   "source": [
    "train = DataLoader(WindowDataset(), batch_size=1, shuffle=True, collate_fn=utils.collate_fn)\n",
    "print(next(iter(train))[0])\n",
    "print(next(iter(train))[1])"
   ],
   "outputs": [
    {
     "output_type": "stream",
     "name": "stdout",
     "text": [
      "(tensor([[[252., 248., 216.,  ..., 227., 226., 223.],\n",
      "         [252., 249., 192.,  ..., 216., 217., 224.],\n",
      "         [254., 253., 168.,  ..., 222., 218., 219.],\n",
      "         ...,\n",
      "         [ 46.,  45.,  44.,  ..., 251., 248., 245.],\n",
      "         [ 39.,  38.,  36.,  ..., 248., 245., 242.],\n",
      "         [ 27.,  27.,  25.,  ..., 247., 243., 240.]],\n",
      "\n",
      "        [[253., 250., 218.,  ..., 254., 255., 255.],\n",
      "         [253., 251., 194.,  ..., 243., 248., 255.],\n",
      "         [255., 255., 170.,  ..., 249., 247., 250.],\n",
      "         ...,\n",
      "         [ 68.,  67.,  68.,  ..., 252., 249., 246.],\n",
      "         [ 60.,  59.,  59.,  ..., 250., 247., 244.],\n",
      "         [ 48.,  48.,  48.,  ..., 249., 245., 242.]],\n",
      "\n",
      "        [[255., 249., 217.,  ..., 249., 251., 249.],\n",
      "         [255., 250., 191.,  ..., 238., 242., 250.],\n",
      "         [255., 254., 167.,  ..., 244., 242., 244.],\n",
      "         ...,\n",
      "         [ 55.,  54.,  55.,  ..., 244., 241., 238.],\n",
      "         [ 51.,  50.,  49.,  ..., 239., 236., 233.],\n",
      "         [ 41.,  41.,  38.,  ..., 238., 234., 231.]]], dtype=torch.float64),)\n",
      "({'boxes': tensor([[ 64.,  48., 127.,  95.]]), 'labels': tensor([1])},)\n"
     ]
    }
   ],
   "metadata": {}
  },
  {
   "cell_type": "code",
   "execution_count": 6,
   "source": [
    "print(next(iter(train))[1][0]['labels'].dtype)"
   ],
   "outputs": [
    {
     "output_type": "stream",
     "name": "stdout",
     "text": [
      "torch.int64\n"
     ]
    }
   ],
   "metadata": {}
  },
  {
   "cell_type": "code",
   "execution_count": 7,
   "source": [
    "imgs, labs = next(iter(train))\n",
    "model.eval()\n",
    "model(imgs)"
   ],
   "outputs": [
    {
     "output_type": "stream",
     "name": "stderr",
     "text": [
      "/Users/michaelyhuang/ProjectData/python/virtual-environments/ml-venv/lib/python3.9/site-packages/torch/nn/functional.py:718: UserWarning: Named tensors and all their associated APIs are an experimental feature and subject to change. Please do not use them for anything important until they are released as stable. (Triggered internally at  ../c10/core/TensorImpl.h:1156.)\n",
      "  return torch.max_pool2d(input, kernel_size, stride, padding, dilation, ceil_mode)\n"
     ]
    },
    {
     "output_type": "execute_result",
     "data": {
      "text/plain": [
       "[{'boxes': tensor([[  0.0000,  58.0702, 128.0000,  96.0000],\n",
       "          [  0.0000,   7.0045, 128.0000,  12.3310],\n",
       "          [  0.0000,  29.3921, 128.0000,  33.0981],\n",
       "          [  0.0000,  21.2894, 128.0000,  31.2540],\n",
       "          [  0.0000,  18.4755, 128.0000,  20.5184],\n",
       "          [  0.0000,  10.5798, 128.0000,  13.3711],\n",
       "          [  0.0000,  10.6417, 128.0000,  27.8138],\n",
       "          [  0.0000,  15.8499, 128.0000,  20.8540],\n",
       "          [  0.0000,  13.8282, 128.0000,  15.2906],\n",
       "          [  0.0000,  13.3781, 128.0000,  14.4623],\n",
       "          [  0.0000,  17.3171, 128.0000,  18.8182],\n",
       "          [  0.0000,  18.1124, 128.0000,  46.8857],\n",
       "          [  0.0000,  26.5195, 128.0000,  39.3971],\n",
       "          [ 54.7462,  85.8553, 128.0000,  96.0000],\n",
       "          [  0.0000,   0.0000, 128.0000,  96.0000],\n",
       "          [  0.0000,   3.2311, 128.0000,  11.1861],\n",
       "          [  0.0000,  60.2874, 128.0000,  71.9090],\n",
       "          [  0.0000,  53.8701, 128.0000,  78.5278],\n",
       "          [  0.0000,  65.8259, 128.0000,  74.9924],\n",
       "          [  0.0000,  68.4367, 128.0000,  82.9186],\n",
       "          [  0.0000,  76.0437, 128.0000,  81.0633],\n",
       "          [  0.0000,  80.7068, 128.0000,  85.4255],\n",
       "          [  0.0000,  79.6111, 128.0000,  82.9965],\n",
       "          [  0.0000,  90.8136, 128.0000,  94.0256],\n",
       "          [  0.0000,  45.7895, 128.0000,  57.4942],\n",
       "          [  0.0000,  57.1552, 128.0000,  66.8111],\n",
       "          [  0.0000,  33.0943, 128.0000,  47.5816],\n",
       "          [  0.0000,  50.7855, 128.0000,  60.3640],\n",
       "          [116.2322,  52.8572, 125.5831,  57.5804],\n",
       "          [110.8549,  53.9771, 128.0000,  56.4970],\n",
       "          [  0.0000,  48.1176,  63.9776,  52.6457],\n",
       "          [  0.0000,  95.5659, 128.0000,  95.5683],\n",
       "          [ 92.0807,  53.7961, 128.0000,  56.6780],\n",
       "          [ 55.5916,  53.8638, 128.0000,  55.2676],\n",
       "          [  0.0000,  38.9298, 128.0000,  66.0581],\n",
       "          [ 12.1848,  54.5373, 128.0000,  54.5748],\n",
       "          [  0.0000,  53.6943, 128.0000,  56.1576],\n",
       "          [  0.0000,  95.9613, 128.0000,  96.0000],\n",
       "          [117.1883,  53.9734, 117.9888,  53.9839],\n",
       "          [ 96.4155,  54.1325, 128.0000,  54.1461],\n",
       "          [  0.0000,  90.8747, 128.0000,  92.4110]], dtype=torch.float64,\n",
       "         grad_fn=<StackBackward>),\n",
       "  'labels': tensor([1, 1, 1, 1, 1, 1, 1, 1, 1, 1, 1, 1, 1, 1, 1, 1, 1, 1, 1, 1, 1, 1, 1, 1,\n",
       "          1, 1, 1, 1, 1, 1, 1, 1, 1, 1, 1, 1, 1, 1, 1, 1, 1]),\n",
       "  'scores': tensor([1.0000, 1.0000, 1.0000, 1.0000, 1.0000, 1.0000, 1.0000, 1.0000, 1.0000,\n",
       "          1.0000, 1.0000, 1.0000, 1.0000, 1.0000, 1.0000, 1.0000, 1.0000, 1.0000,\n",
       "          0.9998, 0.9998, 0.9997, 0.9996, 0.9995, 0.9922, 0.9879, 0.9877, 0.7979,\n",
       "          0.7104, 0.5977, 0.5597, 0.5423, 0.5329, 0.5013, 0.4328, 0.4254, 0.3376,\n",
       "          0.3203, 0.2534, 0.1641, 0.1044, 0.0930], dtype=torch.float64,\n",
       "         grad_fn=<IndexBackward>)}]"
      ]
     },
     "metadata": {},
     "execution_count": 7
    }
   ],
   "metadata": {}
  },
  {
   "cell_type": "code",
   "execution_count": 8,
   "source": [
    "num_epochs = 40\n",
    "\n",
    "for epoch in range(num_epochs):\n",
    "    # Train for one epoch, while printing every 10 iterations\n",
    "    train_one_epoch(model, optimizer, train, device, epoch, print_freq=10)\n",
    "    # update the learning rate\n",
    "    lr_scheduler.step()\n",
    "    # evaluate on the test dataset\n",
    "    evaluate(model, train, device)\n",
    "\n",
    "print(\"DONE\")"
   ],
   "outputs": [
    {
     "output_type": "stream",
     "name": "stdout",
     "text": [
      "({'boxes': tensor([[ 77.,  48., 127.,  95.]]), 'labels': tensor([1])},)\n",
      "Epoch: [0]  [   0/1029]  eta: 11:35:23  lr: 0.000010  loss: 122.3244 (122.3244)  loss_classifier: 0.9701 (0.9701)  loss_box_reg: 0.4877 (0.4877)  loss_objectness: 120.6482 (120.6482)  loss_rpn_box_reg: 0.2184 (0.2184)  time: 40.5473  data: 0.0026\n",
      "({'boxes': tensor([[ 64.,  48., 127.,  95.]]), 'labels': tensor([1])},)\n"
     ]
    }
   ],
   "metadata": {}
  },
  {
   "cell_type": "code",
   "execution_count": null,
   "source": [],
   "outputs": [],
   "metadata": {}
  },
  {
   "cell_type": "code",
   "execution_count": null,
   "source": [],
   "outputs": [],
   "metadata": {}
  }
 ],
 "metadata": {
  "orig_nbformat": 4,
  "language_info": {
   "name": "python",
   "version": "3.9.7",
   "mimetype": "text/x-python",
   "codemirror_mode": {
    "name": "ipython",
    "version": 3
   },
   "pygments_lexer": "ipython3",
   "nbconvert_exporter": "python",
   "file_extension": ".py"
  },
  "kernelspec": {
   "name": "python3",
   "display_name": "Python 3.9.7 64-bit ('ml-venv': venv)"
  },
  "interpreter": {
   "hash": "9e18352fe61ca699d23a1ad95306b1cb7f348970ceaca7c655580a6420f95203"
  }
 },
 "nbformat": 4,
 "nbformat_minor": 2
}