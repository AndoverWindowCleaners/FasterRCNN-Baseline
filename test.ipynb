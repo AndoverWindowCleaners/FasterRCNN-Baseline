{
 "cells": [
  {
   "cell_type": "code",
   "execution_count": 13,
   "metadata": {},
   "outputs": [],
   "source": [
    "import torch\n",
    "import cv2\n",
    "from data_reading import WindowDataset\n",
    "from torch.utils.data import DataLoader\n",
    "import utils\n",
    "import numpy as np"
   ]
  },
  {
   "cell_type": "code",
   "execution_count": 14,
   "metadata": {},
   "outputs": [
    {
     "name": "stdout",
     "output_type": "stream",
     "text": [
      "loading annotations into memory...\n",
      "Done (t=0.00s)\n",
      "creating index...\n",
      "index created!\n"
     ]
    }
   ],
   "source": [
    "dataset_val = WindowDataset(images_folder=\"data/val/images/\", labels_path=\"data/val/anno\")\n",
    "val = DataLoader(dataset_val, batch_size=1, shuffle=True, collate_fn=utils.collate_fn)"
   ]
  },
  {
   "cell_type": "code",
   "execution_count": 25,
   "metadata": {},
   "outputs": [
    {
     "name": "stdout",
     "output_type": "stream",
     "text": [
      "torch.Size([3, 96, 128])\n",
      "{'boxes': tensor([[  0.,   0., 127.,  95.]]), 'labels': tensor([1]), 'image_id': tensor(16), 'area': tensor(16)}\n"
     ]
    }
   ],
   "source": [
    "img, lab = next(iter(val))\n",
    "print(img[0].shape)\n",
    "print(lab[0])"
   ]
  },
  {
   "cell_type": "code",
   "execution_count": 26,
   "metadata": {},
   "outputs": [
    {
     "name": "stdout",
     "output_type": "stream",
     "text": [
      "(0, 0)\n",
      "(127, 95)\n",
      "<class 'numpy.ndarray'> (3, 96, 128)\n",
      "(96, 128, 3)\n"
     ]
    },
    {
     "data": {
      "text/plain": [
       "113"
      ]
     },
     "execution_count": 26,
     "metadata": {},
     "output_type": "execute_result"
    }
   ],
   "source": [
    "startpos = (int(lab[0]['boxes'][0][0].item()),int(lab[0]['boxes'][0][1].item()))\n",
    "endpos = (int(lab[0]['boxes'][0][2].item()),int(lab[0]['boxes'][0][3].item()))\n",
    "print(startpos)\n",
    "print(endpos)\n",
    "img = img[0].cpu().detach().numpy()\n",
    "img2 = img.copy()\n",
    "print(type(img2), img2.shape)\n",
    "img2 = np.transpose(img2, (1,2,0)).copy()\n",
    "print(img2.shape)\n",
    "img2 = cv2.rectangle(img2, startpos, endpos, (43,0,0), 2)\n",
    "cv2.imshow('pic', img2)\n",
    "cv2.waitKey(0)"
   ]
  },
  {
   "cell_type": "code",
   "execution_count": null,
   "metadata": {},
   "outputs": [],
   "source": []
  }
 ],
 "metadata": {
  "interpreter": {
   "hash": "8ea83725a0d7e757f9aba8ea7bbb3168a22f298da9d6ed8cf70bc5ab2342cc11"
  },
  "kernelspec": {
   "display_name": "Python 3.9.7 64-bit ('ml-venv': venv)",
   "name": "python3"
  },
  "language_info": {
   "codemirror_mode": {
    "name": "ipython",
    "version": 3
   },
   "file_extension": ".py",
   "mimetype": "text/x-python",
   "name": "python",
   "nbconvert_exporter": "python",
   "pygments_lexer": "ipython3",
   "version": "3.9.7"
  },
  "orig_nbformat": 4
 },
 "nbformat": 4,
 "nbformat_minor": 2
}
